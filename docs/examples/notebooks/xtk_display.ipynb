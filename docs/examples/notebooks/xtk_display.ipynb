{
 "metadata": {
  "name": "xtk_display"
 },
 "nbformat": 3,
 "nbformat_minor": 0,
 "worksheets": [
  {
   "cells": [
    {
     "cell_type": "heading",
     "level": 1,
     "metadata": {},
     "source": [
      "Using XTK for 3D Visualizations"
     ]
    },
    {
     "cell_type": "markdown",
     "metadata": {},
     "source": [
      "IPython has support for performing 3D visualizations in the Notebook using the [XTK](https://github.com/xtk/X#readme) JavaScript library.  First we import the `Mesh` object:"
     ]
    },
    {
     "cell_type": "code",
     "collapsed": false,
     "input": [
      "from IPython.lib.xtkdisplay import Mesh"
     ],
     "language": "python",
     "metadata": {},
     "outputs": [],
     "prompt_number": 1
    },
    {
     "cell_type": "markdown",
     "metadata": {},
     "source": [
      "The first argument to the `Mesh` constructor is the URL of an XTK support file type. These URLs can be absolute, as in this case:"
     ]
    },
    {
     "cell_type": "code",
     "collapsed": false,
     "input": [
      "Mesh('http://x.babymri.org/?skull.vtk', width=600, height=400)"
     ],
     "language": "python",
     "metadata": {},
     "outputs": [
      {
       "javascript": [
        "$.getScript(\"http://get.goXTK.com/xtk_edge.js\", function () {\n",
        "\n",
        "    container.show();\n",
        "    var id = 'xtkwidget_' + utils.uuid();\n",
        "    var xtkdiv = $('<div/>').attr('id',id);\n",
        "    xtkdiv.css('background-color','#000').width(600).height(400);\n",
        "    element.append(xtkdiv);\n",
        "    var r = new X.renderer3D();\n",
        "    r.container = id;\n",
        "    r.init();\n",
        "    var m = new X.mesh();\n",
        "    m.file = \"http://x.babymri.org/?skull.vtk\";\n",
        "    m.magicmode = false;\n",
        "    m.opacity = 1.000000;\n",
        "    r.add(m);\n",
        "    r.render();\n",
        "});\n"
       ],
       "output_type": "pyout",
       "prompt_number": 2,
       "text": [
        "<IPython.lib.xtkdisplay.Mesh at 0x107f47250>"
       ]
      }
     ],
     "prompt_number": 2
    },
    {
     "cell_type": "markdown",
     "metadata": {},
     "source": [
      "Or these URLS can be relative to the Notebooks working directory:"
     ]
    },
    {
     "cell_type": "code",
     "collapsed": false,
     "input": [
      "Mesh('files/smallsurface.vtk', opacity=0.7, magicmode=True, bgcolor='#FFF')"
     ],
     "language": "python",
     "metadata": {},
     "outputs": [
      {
       "javascript": [
        "$.getScript(\"http://get.goXTK.com/xtk_edge.js\", function () {\n",
        "\n",
        "    container.show();\n",
        "    var id = 'xtkwidget_' + utils.uuid();\n",
        "    var xtkdiv = $('<div/>').attr('id',id);\n",
        "    xtkdiv.css('background-color','#FFF').width(400).height(300);\n",
        "    element.append(xtkdiv);\n",
        "    var r = new X.renderer3D();\n",
        "    r.container = id;\n",
        "    r.init();\n",
        "    var m = new X.mesh();\n",
        "    m.file = \"files/smallsurface.vtk\";\n",
        "    m.magicmode = true;\n",
        "    m.opacity = 0.700000;\n",
        "    r.add(m);\n",
        "    r.render();\n",
        "});\n"
       ],
       "output_type": "pyout",
       "prompt_number": 2,
       "text": [
        "<IPython.lib.xtkdisplay.Mesh at 0x107f471d0>"
       ]
      }
     ],
     "prompt_number": 2
    },
    {
     "cell_type": "code",
     "collapsed": false,
     "input": [],
     "language": "python",
     "metadata": {},
     "outputs": []
    }
   ],
   "metadata": {}
  }
 ]
}